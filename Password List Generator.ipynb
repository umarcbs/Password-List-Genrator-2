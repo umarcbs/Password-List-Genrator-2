{
 "cells": [
  {
   "cell_type": "markdown",
   "metadata": {},
   "source": [
    "# PASSWORD LIST GENERATOR"
   ]
  },
  {
   "cell_type": "markdown",
   "metadata": {},
   "source": [
    "### 1 Import libraries"
   ]
  },
  {
   "cell_type": "code",
   "execution_count": 4,
   "metadata": {},
   "outputs": [],
   "source": [
    "import random\n",
    "import csv"
   ]
  },
  {
   "cell_type": "markdown",
   "metadata": {},
   "source": [
    "### 2 Set Alphabets"
   ]
  },
  {
   "cell_type": "code",
   "execution_count": 5,
   "metadata": {},
   "outputs": [],
   "source": [
    "a = \"abcdefghijklmnopqrstuvwxyz\"\n",
    "\n",
    "# you can set it like the way you want\n",
    "# or randomly"
   ]
  },
  {
   "cell_type": "markdown",
   "metadata": {},
   "source": [
    "### 3 Set Digits"
   ]
  },
  {
   "cell_type": "code",
   "execution_count": 6,
   "metadata": {},
   "outputs": [],
   "source": [
    "digit = \"1234567890\"\n",
    "\n",
    "# you can set all or a few digits depends upon you"
   ]
  },
  {
   "cell_type": "markdown",
   "metadata": {},
   "source": [
    "### 4 Set Symbols"
   ]
  },
  {
   "cell_type": "code",
   "execution_count": 7,
   "metadata": {},
   "outputs": [],
   "source": [
    "specialSymbols = '!@#$%^&*(){}[]'\n",
    "\n",
    "# you can also set other symbols as you want"
   ]
  },
  {
   "cell_type": "markdown",
   "metadata": {},
   "source": [
    "### 5 Combining alphabets + digits + symbols"
   ]
  },
  {
   "cell_type": "code",
   "execution_count": 8,
   "metadata": {},
   "outputs": [],
   "source": [
    "Alphabets = a.upper() + a.lower() + digit + specialSymbols"
   ]
  },
  {
   "cell_type": "markdown",
   "metadata": {},
   "source": [
    "### 6 Writing passwords to a text file"
   ]
  },
  {
   "cell_type": "code",
   "execution_count": 9,
   "metadata": {},
   "outputs": [
    {
     "name": "stdout",
     "output_type": "stream",
     "text": [
      "File created Succesfully\n"
     ]
    }
   ],
   "source": [
    "with open('trainingData.txt', 'w') as txtfile:\n",
    "    for i in range(10000): # you can set any value here, it will create passwords equal to that value\n",
    "        write = []\n",
    "        temp = ''.join(random.sample(Alphabets,random.randint(5,8)))\n",
    "        if len(temp) == 5:\n",
    "            write.extend([temp,str(0)])\n",
    "            txtfile.write(write[0] + \",\" + write[1] + \"\\n\")\n",
    "        if len(temp) == 6:\n",
    "            write.extend([temp,str(1)])\n",
    "            txtfile.write(write[0] + \",\" + write[1] + \"\\n\")\n",
    "        if len(temp) == 7:\n",
    "            write.extend([temp,str(2)])\n",
    "            txtfile.write(write[0] + \",\" + write[1] + \"\\n\")\n",
    "        if len(temp) == 8:\n",
    "            write.extend([temp,str(3)])\n",
    "            txtfile.write(write[0] + \",\" + write[1] + \"\\n\")\n",
    "\n",
    "print(\"File created Succesfully\")\n"
   ]
  },
  {
   "cell_type": "markdown",
   "metadata": {},
   "source": [
    "# Check your downloads, the file is saved as \"trainingData.txt\""
   ]
  },
  {
   "cell_type": "code",
   "execution_count": null,
   "metadata": {},
   "outputs": [],
   "source": []
  }
 ],
 "metadata": {
  "kernelspec": {
   "display_name": "Python 3",
   "language": "python",
   "name": "python3"
  },
  "language_info": {
   "codemirror_mode": {
    "name": "ipython",
    "version": 3
   },
   "file_extension": ".py",
   "mimetype": "text/x-python",
   "name": "python",
   "nbconvert_exporter": "python",
   "pygments_lexer": "ipython3",
   "version": "3.7.1"
  }
 },
 "nbformat": 4,
 "nbformat_minor": 2
}
